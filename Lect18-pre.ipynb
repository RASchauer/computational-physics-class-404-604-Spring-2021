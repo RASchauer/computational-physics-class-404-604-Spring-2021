{
 "cells": [
  {
   "cell_type": "markdown",
   "metadata": {},
   "source": [
    "# Physics 404/604\n",
    "\n",
    "## Computational Physics (Spring 2018)\n",
    "\n",
    "## BPB-250, Mon./Wed. 2:30-3:45 pm\n",
    "\n",
    "| Instructor | Prof. Zhaohuan Zhu                 |\n",
    "| ---------- | :--------------------------------- |\n",
    "| Email      | zhaohuan.zhu@unlv.edu              |\n",
    "| Website    | http://www.physics.unlv.edu/~zhzhu |\n",
    "| Office     | BPB 245                            |"
   ]
  },
  {
   "cell_type": "markdown",
   "metadata": {},
   "source": [
    "# Oscillator\n",
    "\n",
    "A mass m attached to a string that exerts a restoring force (F) toward the origin. Then equation of motion\n",
    "is simply \n",
    "\\begin{equation}\n",
    "m\\frac{d^2 x}{dt^2}=F(x)\n",
    "\\end{equation}\n",
    "If there is no external force (only the force from the string or the friction force is present), this is called\n",
    "a Harmonic Oscillator. If the friction is zero, it is called a Simple Harmonic Oscillator. \n",
    "\n",
    "## Simple Harmonic Oscillator\n",
    "\n",
    "If the force from the string follows the Hooke's Law (F(x)=-k x), where x is with respect to the stationary position, we can solve this equation analytically. \n",
    "\\begin{equation}\n",
    "\\frac{d^2 x}{dt^2}=-\\frac{k}{m}x\n",
    "\\end{equation}\n",
    "\n",
    "For second order ODE, we need two constraints ($x_{0}$ and $v_{0}$). The solution can be\n",
    "written as\n",
    "\\begin{equation}\n",
    "x(t)=Acos(\\omega_{0}t)+Bsin(\\omega_{0}t)\n",
    "\\end{equation}\n",
    "or\n",
    "\\begin{equation}\n",
    "x(t)=Asin(\\omega_{0}t+\\phi)\n",
    "\\end{equation}\n",
    "where $\\omega_{0}=\\sqrt{k/m}$ and $A^2=x_{0}^2+(v_{0}/\\omega_{0})^2$ and\n",
    "$\\phi=tan^{-1}(x_{0}\\omega_{0}/v_{0})$. So the period is 2$\\pi \\sqrt{m/k}$\n",
    "\n",
    "## Damped Harmonic Oscillator\n",
    "\n",
    "If the friction is non-zero, the equation becomes\n",
    "\\begin{equation}\n",
    "\\frac{d^2 x}{dt^2}=-\\frac{k}{m}x-c\\dot{x(t)}\n",
    "\\end{equation}\n",
    "We will solve this equation with a more general method: characteristic equation.\n",
    "Assume $x(t)=e^{rt}$, and then $\\dot{x(t)}=re^{rt}$ and $d^2x(t)/dt^2=r^2e^{rt}$. If we put these terms\n",
    "in the equation, we have\n",
    "\\begin{equation}\n",
    "r^2+cr+K=0\n",
    "\\end{equation}\n",
    "where $K=\\frac{k}{m}$. So\n",
    "\\begin{equation}\n",
    "r=\\frac{-c\\pm\\sqrt{c^2-4K}}{2}\n",
    "\\end{equation}\n",
    "If $(c^2-4K)>0$, it is called overdamped. If it is equal to 0, it is called critically damped.\n",
    "If it is smaller than 0, it is called underdamped. \n",
    "\n",
    "For underdamped system, the solution is\n",
    "\\begin{equation}\n",
    "x(t)=Ae^{\\frac{-c+i\\sqrt\\alpha}{2}t}+Be^{\\frac{-c-i\\sqrt\\alpha}{2}t}\n",
    "\\end{equation}\n",
    "were $\\alpha=4K-c^2$\n",
    "or\n",
    "\\begin{equation}\n",
    "x(t)=e^{-ct/2}(Acos(\\omega_{0}t)+Bsin(\\omega_{0}t))\n",
    "\\end{equation}\n",
    "where  $\\omega_{0}=\\frac{1}{2}\\sqrt{4K-c^2}$.\n",
    "We can also write the solution as\n",
    "\\begin{equation}\n",
    "x(t)=Ae^{-ct/2}sin(\\omega_{0}t+\\phi)\n",
    "\\end{equation}"
   ]
  },
  {
   "cell_type": "markdown",
   "metadata": {},
   "source": [
    "## Nonlinear Oscillator\n",
    "\n",
    "However, this is as far as we can get analytically. If the force is nonlinear (e.g. -kx(1-$\\alpha$x) or -k$x^{p-1}$), we have\n",
    "to solve it numerically. \n",
    "\n",
    "To solve it with RK method\n",
    "\\begin{equation}\n",
    "\\frac{dx}{dt}=v\\\\\n",
    "\\frac{dv}{dt}=F\n",
    "\\end{equation}\n",
    "\n",
    "the y vector is {x,v}, the force vector is {v,F}, so $d{\\bf y}/dt={\\bf F}$"
   ]
  },
  {
   "cell_type": "code",
   "execution_count": 6,
   "metadata": {
    "ExecuteTime": {
     "end_time": "2021-04-13T19:13:55.508498Z",
     "start_time": "2021-04-13T19:13:55.360478Z"
    }
   },
   "outputs": [
    {
     "data": {
      "image/png": "[encoded data removed]",
      "text/plain": [
       "<Figure size 432x288 with 1 Axes>"
      ]
     },
     "metadata": {
      "needs_background": "light"
     },
     "output_type": "display_data"
    }
   ],
   "source": [
    "# Let's first try linear force  Fx=-x, then try Fx=, -x**3, -x**5, ..., -x**11\n",
    "\n",
    "\"\"\" From \"COMPUTATIONAL PHYSICS\", 3rd Ed, Enlarged Python eTextBook  \n",
    "    by RH Landau, MJ Paez, and CC Bordeianu\n",
    "    Copyright Wiley-VCH Verlag GmbH & Co. KGaA, Berlin;  Copyright R Landau,\n",
    "    Oregon State Unv, MJ Paez, Univ Antioquia, C Bordeianu, Univ Bucharest, 2015.\n",
    "    Support by National Science Foundation\"\"\"\n",
    "\n",
    "# rk4.py 4th order Runge Kutta\n",
    "\t\t \n",
    "import matplotlib.pylab as p\n",
    "import numpy as np\n",
    "\n",
    "#   Initialization\n",
    "a = 0.\n",
    "b = 6.2832\n",
    "n = 1000                                         \n",
    "ydumb = np.zeros((2), float);    y = np.zeros((2), float)\n",
    "fReturn = np.zeros((2), float);  k1 = np.zeros((2), float)\n",
    "k2 = np.zeros((2), float);       k3 = np.zeros((2), float) \n",
    "k4 = np.zeros((2), float)\n",
    "y[0] = 0.;   y[1] = -1.\n",
    "t = a;       h = (b-a)/n;\n",
    "xp=np.array([0.0])\n",
    "yp=np.array([y[0]])\n",
    "\n",
    "def f( t, y):                                           # Force function \n",
    "    fReturn[0] = y[1]# finish this line                                            \n",
    "    fReturn[1] = -(y[0]**21)# finish this line  assume F=-x, -x^3, -x^5, -x^11    \n",
    "    return fReturn\n",
    "\n",
    "def rk4(t,h,n):                 \n",
    "    k1 = [0]*(n)\n",
    "    k2 = [0]*(n)\n",
    "    k3 = [0]*(n)\n",
    "    k4 = [0]*(n)\n",
    "    fR = [0]*(n)\n",
    "    ydumb = [0]*(n)\n",
    "    fR = f(t, y)                                            # Returns RHS's  \n",
    "    for i in range(0, n):\n",
    "        k1[i] = h*fR[i]                             \n",
    "    for i in range(0, n):\n",
    "        ydumb[i] = y[i] + k1[i]/2. \n",
    "    k2 = h*f(t+h/2., ydumb) \n",
    "    for i in range(0, n):\n",
    "        ydumb[i] = y[i] + k2[i]/2. \n",
    "    k3 = h*f(t+h/2., ydumb)\n",
    "    for i in range(0, n):\n",
    "        ydumb[i] = y[i] + k3[i] \n",
    "    k4 = h*f(t+h, ydumb) \n",
    "    for i in range(0, 2):\n",
    "        y[i] = y[i] + (k1[i] + 2.*(k2[i] + k3[i]) + k4[i])/6.\n",
    "    return y    \n",
    "\n",
    "while (t < b):                                              # Time loop\n",
    "    if ((t + h) > b):\n",
    "        h = b - t                                           # Last step\n",
    "    y = rk4(t,h,2)\n",
    "    t = t + h\n",
    "    xp=np.append(xp, t)\n",
    "    yp=np.append(yp,y[0])\n",
    "    \n",
    "p.plot(xp,yp)\n",
    "p.show()"
   ]
  },
  {
   "cell_type": "markdown",
   "metadata": {},
   "source": [
    "# Fourier Analysis\n",
    "\n",
    "Suppose we are measuring the position of the oscillator above and get a series of data (time and position). Now we want to do data analysis to derive the period and amplitude of the oscillation. The data may be periodic but not necessarily harmonic (e.g. p=10 case above). \n",
    "\n",
    "A periodic function (y(t+T)=y(t)) can be expanded as a series of harmonic functions with frequencies that are multiples of the true frequency:\n",
    "\\begin{equation}\n",
    "y(t)=\\frac{a_{0}}{2}+\\sum_{n=1}^{\\infty}(a_{n}cos\\, (n\\omega t)+b_{n}sin\\, (n\\omega t))\n",
    "\\end{equation}\n",
    "where $\\omega=\\frac{2\\pi}{T}$.\n",
    "Then intensity of power at each frequency is $a^2_{n}+b^2_{n}$.\n",
    "\n",
    "The coefficients $a_{n}$ and $b_{n}$ are\n",
    "\\begin{equation}\n",
    "a_{n}=\\frac{2}{T}\\int_{0}^T dt\\, cos\\,(n\\omega t) \\, y(t)\n",
    "\\end{equation}\n",
    "and\n",
    "\\begin{equation}\n",
    "b_{n}=\\frac{2}{T}\\int_{0}^T dt\\, sin\\,(n\\omega t) \\, y(t)\n",
    "\\end{equation}\n",
    "\n",
    "* $a_{0}$ is twice the average value of y\n",
    "* For an odd function (y(-t)=-y(t)), all $a_{n}$ are 0.\n",
    "* For an even function (y(-t)=y(t)), all $b_{n}$ are 0."
   ]
  },
  {
   "cell_type": "markdown",
   "metadata": {},
   "source": [
    "## Two examples:\n",
    "\n",
    "### The sawtooth function\n",
    "\n",
    "\\begin{eqnarray}\n",
    "y(t)&=\\frac{t}{T/2},\\quad for\\, 0<t<\\frac{T}{2}\\,,\\\\\n",
    "y(t)&=\\frac{t-T}{T/2},\\quad for\\, \\frac{T}{2}<t<T\n",
    "\\end{eqnarray}\n",
    "\n",
    "Since it is an odd function, all $a_{n}$ are 0, and\n",
    "\\begin{equation}\n",
    "b_{n}=\\frac{2}{T}\\int_{-T/2}^{T/2} dt\\, sin\\,(n\\omega t) \\, \\frac{t}{T/2}=\\frac{2}{n\\pi}(-1)^{n+1}\n",
    "\\end{equation}\n",
    "So we have\n",
    "\\begin{equation}\n",
    "y(t)=\\frac{2}{\\pi}\\left[sin \\omega t-\\frac{1}{2}sin 2\\omega t+\\frac{1}{3}sin 3\\omega t -...\\right]\n",
    "\\end{equation}\n",
    "and\n",
    "\\begin{equation}\n",
    "\\omega=2\\pi/T\n",
    "\\end{equation}"
   ]
  },
  {
   "cell_type": "code",
   "execution_count": 1,
   "metadata": {
    "ExecuteTime": {
     "end_time": "2021-04-13T20:51:02.290047Z",
     "start_time": "2021-04-13T20:51:01.567067Z"
    }
   },
   "outputs": [
    {
     "data": {
      "image/png": "[encoded data removed]",
      "text/plain": [
       "<Figure size 432x288 with 1 Axes>"
      ]
     },
     "metadata": {
      "needs_background": "light"
     },
     "output_type": "display_data"
    }
   ],
   "source": [
    "\"\"\" Author: Oscar Restrepo, From \"COMPUTATIONAL PHYSICS\", 3rd Ed, Enlarged Python  \n",
    "   eTextBook by RH Landau, MJ Paez, and CC Bordeianu. \n",
    "    Copyright Wiley-VCH Verlag GmbH & Co. KGaA, Berlin;  Copyright R Landau,\n",
    "    Oregon State Unv, MJ Paez, Univ Antioquia, C Bordeianu, Univ Bucharest, 2015.\n",
    "    Support by National Science Foundation\"\"\"\n",
    "\n",
    "\" FourierMatplot.py: Fourier synthesis  sawtooth + interactive slider\"\n",
    "\n",
    "import numpy as np \n",
    "import matplotlib.pyplot as plt\n",
    "from matplotlib.widgets import Slider\n",
    "from pylab import *\n",
    "\n",
    "M = 4                               \n",
    "T = 2.                                                    # Period \n",
    "\n",
    "fig, ax = plt.subplots()\n",
    "plt.subplots_adjust(left=0.15, bottom=0.25)         # L & B margins\n",
    "t = np.arange(0.0, pi, 0.01)               \n",
    "t1 = np.arange(0.0,T/2,0.01)               \n",
    "t2 = t[100:300]                               \n",
    "f1 = t1                                 \n",
    "f2 = t2-T                                  \n",
    "s = 0 \n",
    "plot(t1,f1)                                 \n",
    "plot(t2,f2,color='b')           \n",
    "\n",
    "def Four(M,T,t):         # M = number waves, T = period, t = time\n",
    "    sumy = 0                                            \n",
    "    om = 2.*pi/T                                    # Omega = 2pi/T\n",
    "    fac = 1\n",
    "    for m in range(1,M):         \n",
    "        fac = (-1)**(m-1)/m    # finish this line, try different numwaves at the top\n",
    "        sumy += fac* sin(m*om*t)                       \n",
    "    sumy = (2.0/pi)*sumy                           # Common factor\n",
    "    return sumy\n",
    "\n",
    "s = Four(M,T,t)                                    # Initial plot   \n",
    "l, = plt.plot(t,s, lw=1, color='red')\n",
    "plt.axis([0, pi, -4.0, 4.0])             # minx, maxx, miny, maxy\n",
    "\n",
    "xlabel('Time')                                        \n",
    "ylabel('Signal')                                      \n",
    "title('Fourier Synthesis of Sawtooth function')\n",
    "grid(True)               \n",
    "\n",
    "\n",
    "\n",
    "\n",
    "plt.show()"
   ]
  },
  {
   "cell_type": "markdown",
   "metadata": {},
   "source": [
    "### The half-wave function\n",
    "\n",
    "\\begin{eqnarray}\n",
    "y(t)&=&sin \\omega t,\\quad for\\, 0<t<\\frac{T}{2}\\,,\\\\\n",
    "y(t)&=&0,\\quad for\\, \\frac{T}{2}<t<T\n",
    "\\end{eqnarray}\n",
    "\n",
    "So\n",
    "\\begin{equation}\n",
    "a_{n}=\\frac{-2}{\\pi(n^2-1)},\\quad n\\,even\\, or\\,0\n",
    "\\end{equation}\n",
    "and $b_{1}=1/2$, and all other $a_{n}$ and $b_{n}$ are zero.\n"
   ]
  },
  {
   "cell_type": "code",
   "execution_count": 18,
   "metadata": {
    "ExecuteTime": {
     "end_time": "2021-04-13T19:34:04.837206Z",
     "start_time": "2021-04-13T19:34:04.679207Z"
    }
   },
   "outputs": [
    {
     "data": {
      "image/png": "[encoded data removed]",
      "text/plain": [
       "<Figure size 432x288 with 1 Axes>"
      ]
     },
     "metadata": {
      "needs_background": "light"
     },
     "output_type": "display_data"
    }
   ],
   "source": [
    "\"\"\" Author: Oscar Restrepo, From \"COMPUTATIONAL PHYSICS\", 3rd Ed, Enlarged Python  \n",
    "   eTextBook by RH Landau, MJ Paez, and CC Bordeianu. \n",
    "    Copyright Wiley-VCH Verlag GmbH & Co. KGaA, Berlin;  Copyright R Landau,\n",
    "    Oregon State Unv, MJ Paez, Univ Antioquia, C Bordeianu, Univ Bucharest, 2015.\n",
    "    Support by National Science Foundation\"\"\"\n",
    "\n",
    "\" FourierMatplot.py: Fourier synthesis  sawtooth + interactive slider\"\n",
    "\n",
    "import numpy as np \n",
    "import matplotlib.pyplot as plt\n",
    "from matplotlib.widgets import Slider\n",
    "from pylab import *\n",
    "\n",
    "M = 10                               \n",
    "T = 2.                                                    # Period \n",
    "\n",
    "fig, ax = plt.subplots()\n",
    "plt.subplots_adjust(left=0.15, bottom=0.25)         # L & B margins\n",
    "t = np.arange(0.0, T, 0.01)               \n",
    "t1 = np.arange(0.0,T/2,0.01)               \n",
    "t2 = t[100:300]  \n",
    "om = 2.*pi/T \n",
    "f1 = sin(om*t1)                                 \n",
    "f2 = t2*0.                                  \n",
    "s = 0 \n",
    "plot(t1,f1)                                 \n",
    "plot(t2,f2,color='b')           \n",
    "\n",
    "def Four(M,T,t):         # M = number waves, T = period, t = time\n",
    "    om = 2.*pi/T \n",
    "    sumy = 1./2.*sin(om*t)+1./pi                                            \n",
    "    for m in np.arange(2,M,2):         # M variable selected with slider\n",
    "        fac = -2./pi/(m*m-1)\n",
    "        sumy += fac* cos(m*om*t)                          \n",
    "    return sumy\n",
    "\n",
    "s = Four(M,T,t)                                    # Initial plot   \n",
    "l, = plt.plot(t,s, lw=1, color='red')\n",
    "plt.axis([0, T, -2.0, 2.0])             # minx, maxx, miny, maxy\n",
    "\n",
    "xlabel('Time')                                        \n",
    "ylabel('Signal')                                      \n",
    "title('Fourier Synthesis of Sawtooth function')\n",
    "grid(True)               \n",
    "\n",
    "\n",
    "\n",
    "plt.show()"
   ]
  },
  {
   "cell_type": "markdown",
   "metadata": {},
   "source": [
    "## Fourier Transforms:\n",
    "\n",
    "If the function is non-periodic, we can imagine a system with a continuum of fundamental frequencies.\n",
    "\\begin{equation}\n",
    "y(t)=\\int_{-\\infty}^{\\infty}d\\omega Y(\\omega)\\frac{e^{i\\omega t}}{\\sqrt{2\\pi}}\n",
    "\\end{equation}\n",
    "Notice that $\\omega$ is real while $Y(\\omega)$ is a complex function. $Y(\\omega)$ is called the Fourier transform of y(t). We thus have\n",
    "\\begin{equation}\n",
    "Y(\\omega)=\\int_{-\\infty}^{\\infty}dt y(t)\\frac{e^{-i\\omega t}}{\\sqrt{2\\pi}}\n",
    "\\end{equation}\n",
    "If we substitute the transform into the inverse transform, we have\n",
    "\\begin{equation}\n",
    "Y(\\omega)=\\int_{-\\infty}^{\\infty}dt\\frac{e^{-i\\omega t}}{\\sqrt{2\\pi}}\\int_{-\\infty}^{\\infty}d\\omega' Y(\\omega')\\frac{e^{i\\omega' t}}{\\sqrt{2\\pi}}\n",
    "\\end{equation}\n",
    "And we have Dirac delta function identity:\n",
    "\\begin{equation}\n",
    "\\int_{-\\infty}^{\\infty}dt e^{i(\\omega'-\\omega) t}=2\\pi\\delta(\\omega'-\\omega)\n",
    "\\end{equation}"
   ]
  },
  {
   "cell_type": "markdown",
   "metadata": {},
   "source": [
    "## The Discrete Fourier Transform:\n",
    "\n",
    "In practice, we only have a finite number measurements. We can use these values to do Fourier transform,\n",
    "and construct the signal for any value of the time. In this way, DFT is a technique for interpolating, \n",
    "compressing, and extrapolating the signal. \n",
    "\n",
    "We assume the signal y(t) is sampled at (N+1) discrete times with a constant spacing $\\Delta$t=h between them. \n",
    "\\begin{eqnarray}\n",
    "y_{k}&=&y(t_{k}),\\quad k=0,1,2,...,N\\\\\n",
    "t_{k}&=&k h,\\quad h=\\Delta t\n",
    "\\end{eqnarray}\n",
    "The total time to sample the data is thus T=Nh. When we choose the period T to sample the data, we implicitly assume that y(t+T)=y(t), and thus $y_{0}=y_{N}$.\n",
    "\n",
    "The time interval T is the largest time over which we measure y(t). It determines the lowest frequency \n",
    "\\begin{equation}\n",
    "\\omega_{1}=\\frac{2\\pi}{T}\n",
    "\\end{equation}\n",
    "The full range of frequencies is thus\n",
    "\\begin{equation}\n",
    "\\omega_{n}=n\\omega_{1}\\quad n=0,1,...,N\n",
    "\\end{equation}\n",
    "n=0 is the part of the siginal that does not oscillate. \n",
    "\n",
    "DFT follows from two approximations. First we evaluate the integral from time 0 to time T, instead of $-\\infty$ to $\\infty$. Second, the trapezoid rule is used for the integration\n",
    "\\begin{eqnarray}\n",
    "Y(\\omega_{n})&=&\\int_{-\\infty}^{\\infty}dt y(t)\\frac{e^{-i\\omega t}}{\\sqrt{2\\pi}}\\sim\\int_{0}^{T}dt y(t)\\frac{e^{-i\\omega_{n}t}}{\\sqrt{2\\pi}}\\\\\n",
    "&=&\\sum_{k=1}^{N}h y(t_{k})\\frac{e^{-i\\omega_{n}t_{k}}}{\\sqrt{2\\pi}}=h \\sum_{k=1}^{N} y_{k}\\frac{e^{-i n 2\\pi k /N }}{\\sqrt{2\\pi}}\n",
    "\\end{eqnarray}\n",
    "Sometimes, we devide this by h to get $Y_{n}$ ($Y_{n}=\\frac{1}{h}Y(\\omega_{n})$).\n",
    "\n",
    "With $d\\omega=2\\pi/Nh$, we write\n",
    "\\begin{equation}\n",
    "y(t)=\\int_{-\\infty}^{\\infty}d\\omega Y(\\omega)\\frac{e^{i\\omega t}}{\\sqrt{2\\pi}}\n",
    "\\end{equation}\n",
    "as\n",
    "\\begin{equation}\n",
    "y(t)=\\sum_{n=1}^{N}\\frac{2\\pi}{Nh}\\frac{e^{i\\omega_{n} t}}{\\sqrt{2\\pi}}Y(\\omega_{n})\n",
    "\\end{equation}\n",
    "\n",
    "Computationally, a good way to calculate DFT is\n",
    "\\begin{eqnarray}\n",
    "Y_{n}&=&\\frac{1}{\\sqrt{2\\pi}}\\sum_{k=1}^{N} y_{k}Z^{nk}\\\\\n",
    "y_{k}&=&\\frac{\\sqrt{2\\pi}}{N}\\sum_{n=1}^{N} Z^{-nk} Y_{n}\\quad Z=e^{-2\\pi i/N}\n",
    "\\end{eqnarray}\n",
    "\n"
   ]
  },
  {
   "cell_type": "code",
   "execution_count": 4,
   "metadata": {},
   "outputs": [
    {
     "name": "stdout",
     "output_type": "stream",
     "text": [
      "<class 'complex'>\n",
      "(1+2j)\n",
      "Real Part = 1.0\n",
      "Imaginary Part = 2.0\n",
      "Complex conjugate = (1-2j)\n",
      "Addition = (3+6j)\n",
      "Subtraction = (-1-2j)\n",
      "Multiplication = (-6+8j)\n",
      "Division = (2+0j)\n"
     ]
    }
   ],
   "source": [
    "# python complex number\n",
    "\n",
    "c = 1 + 2j\n",
    "print(type(c))\n",
    "print(c)\n",
    "print('Real Part =', c.real)\n",
    "print('Imaginary Part =', c.imag)\n",
    "print('Complex conjugate =', c.conjugate())\n",
    "\n",
    "c = 1 + 2j\n",
    "c1 = 2 + 4j\n",
    "print('Addition =', c + c1)\n",
    "print('Subtraction =', c - c1)\n",
    "print('Multiplication =', c * c1)\n",
    "print('Division =', c1 / c)\n"
   ]
  },
  {
   "cell_type": "code",
   "execution_count": 11,
   "metadata": {},
   "outputs": [
    {
     "name": "stdout",
     "output_type": "stream",
     "text": [
      "(2+2j) (2+2j)\n",
      "2 + 2j Phase = 0.7853981633974483\n",
      "Phase in Degrees = 45.0\n",
      "-2 - 2j Phase = -2.356194490192345 radians. Degrees = -135.0\n",
      "e^c = (-3.074932320639359+6.71884969742825j)\n",
      "log2(c) = (1.5000000000000002+1.1330900354567985j)\n",
      "log10(c) = (0.4515449934959718+0.3410940884604603j)\n",
      "sqrt(c) = (1.5537739740300374+0.6435942529055826j)\n",
      "arc sine = (0.7542491446980459+1.7343245214879666j)\n",
      "arc cosine = (0.8165471820968505-1.7343245214879666j)\n",
      "arc tangent = (1.311223269671635+0.2388778612568591j)\n",
      "sine = (3.4209548611170133-1.5093064853236156j)\n",
      "cosine = (-1.5656258353157435-3.2978948363112366j)\n",
      "tangent = (-0.028392952868232294+1.0238355945704727j)\n"
     ]
    }
   ],
   "source": [
    "\n",
    "import cmath, math, numpy\n",
    "\n",
    "c = 2 + 2j\n",
    "\n",
    "d= complex(2, 2)\n",
    "print(c,d)\n",
    "\n",
    "# phase\n",
    "phase = cmath.phase(c)\n",
    "print('2 + 2j Phase =', phase)\n",
    "print('Phase in Degrees =', numpy.degrees(phase))\n",
    "print('-2 - 2j Phase =', cmath.phase(-2 - 2j), 'radians. Degrees =', numpy.degrees(cmath.phase(-2 - 2j)))\n",
    "\n",
    "print('e^c =', cmath.exp(c))\n",
    "print('log2(c) =', cmath.log(c, 2))\n",
    "print('log10(c) =', cmath.log10(c))\n",
    "print('sqrt(c) =', cmath.sqrt(c))\n",
    "\n",
    "print('arc sine =', cmath.asin(c))\n",
    "print('arc cosine =', cmath.acos(c))\n",
    "print('arc tangent =', cmath.atan(c))\n",
    "\n",
    "print('sine =', cmath.sin(c))\n",
    "print('cosine =', cmath.cos(c))\n",
    "print('tangent =', cmath.tan(c))\n"
   ]
  },
  {
   "cell_type": "code",
   "execution_count": 6,
   "metadata": {
    "scrolled": false
   },
   "outputs": [
    {
     "data": {
      "image/png": "[encoded data removed]",
      "text/plain": [
       "<Figure size 432x288 with 1 Axes>"
      ]
     },
     "metadata": {},
     "output_type": "display_data"
    },
    {
     "data": {
      "image/png": "[encoded data removed]",
      "text/plain": [
       "<Figure size 432x288 with 1 Axes>"
      ]
     },
     "metadata": {},
     "output_type": "display_data"
    }
   ],
   "source": [
    "\"\"\" From \"COMPUTATIONAL PHYSICS\", 3rd Ed, Enlarged Python eTextBook  \n",
    "    by RH Landau, MJ Paez, and CC Bordeianu\n",
    "    Copyright Wiley-VCH Verlag GmbH & Co. KGaA, Berlin;  Copyright R Landau,\n",
    "    Oregon State Unv, MJ Paez, Univ Antioquia, C Bordeianu, Univ Bucharest, 2015.\n",
    "    Support by National Science Foundation\"\"\"\n",
    "\n",
    "# DFTcomplex.py:  Discrete Fourier Transform with built in complex\n",
    "from numpy import *\n",
    "import matplotlib.pyplot as plt\n",
    "import cmath                                            # complex math\n",
    "    \n",
    "    \n",
    "N = 500;                  Np = N                           \n",
    "signal = zeros( (N+1), float )     \n",
    "twopi  = 2.*pi;       sq2pi = 1./sqrt(twopi);         h = twopi/N\n",
    "dftz   = zeros( (Np), complex )                  # Complex elements\n",
    "xa = zeros( (N+1), float )   \n",
    "nplot = zeros( N, float )   \n",
    "fplot = zeros( N, float ) \n",
    "\n",
    "def f(signal):                                                  # Signal\n",
    "    step = twopi/N;        \n",
    "    x = 0. \n",
    "    for i in range(0, N+1):\n",
    "        signal[i] = 30*cos(x*x*x)\n",
    "        xa[i] = x                      # Plot\n",
    "        x += step\n",
    "        \n",
    "      \n",
    "def fourier(dftz):                                              # DFT\n",
    "    for n in range(0, Np):              \n",
    "      zsum = complex(0.0, 0.0)                \n",
    "      for  k in range(0, N):                              \n",
    "          zexpo = complex(0, twopi*k*n/N)           # Complex exponent\n",
    "          zsum += signal[k]*exp(-zexpo)        # finish this line\n",
    "      dftz[n] = zsum * sq2pi      \n",
    "      nplot[n] = n\n",
    "      fplot[n] = sqrt(dftz[n].imag*dftz[n].imag+dftz[n].real*dftz[n].real)\n",
    "\n",
    "f(signal);       \n",
    "fourier(dftz)              # Call signal, transform\n",
    "plt.plot(xa,signal)\n",
    "plt.show()\n",
    "plt.plot(nplot,fplot)\n",
    "plt.show()\n"
   ]
  },
  {
   "cell_type": "markdown",
   "metadata": {},
   "source": [
    "## Fun stuff:\n",
    "\n",
    "If you want to know how to do Fourier transfer mechanically in old days:\n",
    "http://www.engineerguy.com/fourier/\n"
   ]
  }
 ],
 "metadata": {
  "kernelspec": {
   "display_name": "Python 3",
   "language": "python",
   "name": "python3"
  },
  "language_info": {
   "codemirror_mode": {
    "name": "ipython",
    "version": 3
   },
   "file_extension": ".py",
   "mimetype": "text/x-python",
   "name": "python",
   "nbconvert_exporter": "python",
   "pygments_lexer": "ipython3",
   "version": "3.8.5"
  },
  "latex_envs": {
   "LaTeX_envs_menu_present": true,
   "autoclose": false,
   "autocomplete": true,
   "bibliofile": "biblio.bib",
   "cite_by": "apalike",
   "current_citInitial": 1,
   "eqLabelWithNumbers": true,
   "eqNumInitial": 1,
   "hotkeys": {
    "equation": "Ctrl-E",
    "itemize": "Ctrl-I"
   },
   "labels_anchors": false,
   "latex_user_defs": false,
   "report_style_numbering": false,
   "user_envs_cfg": false
  },
  "varInspector": {
   "cols": {
    "lenName": 16,
    "lenType": 16,
    "lenVar": 40
   },
   "kernels_config": {
    "python": {
     "delete_cmd_postfix": "",
     "delete_cmd_prefix": "del ",
     "library": "var_list.py",
     "varRefreshCmd": "print(var_dic_list())"
    },
    "r": {
     "delete_cmd_postfix": ") ",
     "delete_cmd_prefix": "rm(",
     "library": "var_list.r",
     "varRefreshCmd": "cat(var_dic_list()) "
    }
   },
   "types_to_exclude": [
    "module",
    "function",
    "builtin_function_or_method",
    "instance",
    "_Feature"
   ],
   "window_display": false
  }
 },
 "nbformat": 4,
 "nbformat_minor": 2
}
