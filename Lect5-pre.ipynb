{
 "cells": [
  {
   "cell_type": "markdown",
   "metadata": {},
   "source": [
    "# Physics 404/604\n",
    "\n",
    "## Computational Physics (Spring 2019)\n",
    "\n",
    "## BPB-250, Mon./Wed. 1:00-2:15 pm\n",
    "\n",
    "| Instructor | Prof. Zhaohuan Zhu                 |\n",
    "| ---------- | :--------------------------------- |\n",
    "| Email      | zhaohuan.zhu@unlv.edu              |\n",
    "| Website    | http://www.physics.unlv.edu/~zhzhu |\n",
    "| Office     | BPB 245                            |\n",
    "\n"
   ]
  },
  {
   "cell_type": "markdown",
   "metadata": {},
   "source": [
    "# How to solve equations numerically?\n",
    "\n",
    "How to find the solution of 2*sin(x)=x ?\n",
    "\n",
    "or more generally, find the solution of f(x)=0\n",
    "\n",
    "Most important thing: plot f(x) first.\n",
    "\n",
    "## 1 Trial-and-Error Roots via Bisection\n",
    "At xmin, the function is positive (negative); at xmax, the function is negative(positive); the solution has to be within [xmin,xmax]; search the value at (xmin+xmax)/2; if f((xmin+xmax)/2) has the same sign as f(xmin), then (xmin+xmax)/2 is the new xmin, otherwise it is xmax....\n",
    "\n",
    "\n"
   ]
  },
  {
   "cell_type": "code",
   "execution_count": 24,
   "metadata": {
    "ExecuteTime": {
     "end_time": "2021-02-11T19:52:10.595706Z",
     "start_time": "2021-02-11T19:52:10.485671Z"
    },
    "scrolled": true
   },
   "outputs": [
    {
     "data": {
      "image/png": "[encoded data removed]",
      "text/plain": [
       "<Figure size 432x288 with 1 Axes>"
      ]
     },
     "metadata": {
      "needs_background": "dark"
     },
     "output_type": "display_data"
    }
   ],
   "source": [
    "## Always a good idea to draw the function first\n",
    "import matplotlib.pyplot as plt\n",
    "import numpy as np\n",
    "\n",
    "# Plot text color, uncomment 'black' for a light background\n",
    "# COLOR = 'white'\n",
    "COLOR = '#e8f0ff' # A very light grey, close to white\n",
    "#COLOR = 'black'\n",
    "\n",
    "# plt.rcParams['axes.facecolor']= '#373e4b' # Color of Notebook Theme background\n",
    "plt.rcParams['axes.facecolor']= COLOR \n",
    "plt.rcParams['axes.labelcolor'] = COLOR\n",
    "plt.rcParams['text.color'] = COLOR\n",
    "plt.rcParams['axes.labelcolor'] = COLOR\n",
    "plt.rcParams['xtick.color'] = COLOR\n",
    "plt.rcParams['ytick.color'] = COLOR\n",
    "# plt.rcParams[\"figure.figsize\"] = (8, 6)\n",
    "plt.rcParams.update({'font.size': 15})\n",
    "\n",
    "\n",
    "def f(x):\n",
    "    return 2.*np.sin(x)-x\n",
    "\n",
    "t = np.arange(-3.0, 3.0, 0.01)\n",
    "s = f(t)\n",
    "plt.plot(t, s)\n",
    "s2 = np.zeros(len(t))\n",
    "plt.plot(t,s2)\n",
    "plt.show()"
   ]
  },
  {
   "cell_type": "code",
   "execution_count": 2,
   "metadata": {
    "ExecuteTime": {
     "end_time": "2021-02-11T19:40:20.130270Z",
     "start_time": "2021-02-11T19:40:20.115246Z"
    }
   },
   "outputs": [],
   "source": [
    "def bisection(xmin,xmax, Nmax, eps,f): #xmin is the left bound and xmax is the right bound, Nmax is the iteration limit, eps is the error, and f is the function\n",
    "    for i in range(0,Nmax):\n",
    "        x=(xmin+xmax)/2.\n",
    "        if(f(xmin)*f(x)>0):\n",
    "            xmin=x # please finish this line\n",
    "        else:\n",
    "            xmax=x # please finish this line\n",
    "        if(abs(f(x))<eps):\n",
    "            print(\"Root is at\",x,\" after \",i,\" iterations, with a precision of \",abs(f(x)))\n",
    "            break\n",
    "    return x"
   ]
  },
  {
   "cell_type": "code",
   "execution_count": 3,
   "metadata": {
    "ExecuteTime": {
     "end_time": "2021-02-11T19:40:20.146245Z",
     "start_time": "2021-02-11T19:40:20.134252Z"
    }
   },
   "outputs": [
    {
     "name": "stdout",
     "output_type": "stream",
     "text": [
      "Root is at 1.8954942673444748  after  24  iterations, with a precision of  5.086029375434009e-10\n"
     ]
    }
   ],
   "source": [
    "eps = 1.e-8\n",
    "a=0.5\n",
    "b=3.\n",
    "nmax=100\n",
    "root = bisection(a, b, nmax, eps, f)# please call bisection function to calculate the root\n"
   ]
  },
  {
   "cell_type": "markdown",
   "metadata": {},
   "source": [
    "## 2. Newton-Raphson Searching\n",
    "\n",
    "Want to find x so that f(x)=0 :   \n",
    "Starting with a guess at $x_{0}$, then try to correct it with $\\Delta x$, hopeing that $f(x_{0}+\\Delta x)=0$.\n",
    "\\begin{equation}\n",
    "f(x=x_{0}+\\Delta x)\\simeq f(x_{0})+f'(x_{0})\\Delta x=0\n",
    "\\end{equation}\n",
    "So that\n",
    "\\begin{equation}\n",
    "\\Delta x=-\\frac{f(x_{0})}{f'(x_{0})}\n",
    "\\end{equation}\n",
    "Then use $x_{0}=x_{0}+\\Delta x$ to update $x_{0}$.\n",
    "This repeated until it reaches a given precision. \n",
    "\n",
    "Newton-Raphson method requires the first derivative. You can use either analytical solution or numerical derivative we talked about to calculate it (normally forward difference or central difference is sufficient). "
   ]
  },
  {
   "cell_type": "code",
   "execution_count": 17,
   "metadata": {
    "ExecuteTime": {
     "end_time": "2021-02-11T19:49:16.201282Z",
     "start_time": "2021-02-11T19:49:16.195190Z"
    }
   },
   "outputs": [],
   "source": [
    "def newtonraphson(x0,dx, Nmax, eps,f):\n",
    "    for i in range(0,Nmax):\n",
    "        df = (f(x0+dx/2.)-f(x0-dx/2.))/dx # using central difference to calculate the derivative\n",
    "        x0 =  x0 - f(x0)/df # please finish this line\n",
    "        if(abs(f(x0))<eps):\n",
    "            print(\"Root is at\",x0,\" after \",i,\" iterations, with a precision of \",abs(f(x0)))\n",
    "            break\n",
    "    return x0"
   ]
  },
  {
   "cell_type": "code",
   "execution_count": 18,
   "metadata": {
    "ExecuteTime": {
     "end_time": "2021-02-11T19:49:17.238230Z",
     "start_time": "2021-02-11T19:49:17.231305Z"
    }
   },
   "outputs": [
    {
     "name": "stdout",
     "output_type": "stream",
     "text": [
      "Root is at 1.8954942670339812  after  4  iterations, with a precision of  4.440892098500626e-16\n",
      "1.8954942670339812\n"
     ]
    }
   ],
   "source": [
    "eps = 1.e-8\n",
    "dx=1.e-6\n",
    "a=3.\n",
    "nmax=100\n",
    "root = newtonraphson(a, dx, nmax, eps, f)# please call newtonraphson function to find the root and compare the results using bisection method\n",
    "print(root)"
   ]
  },
  {
   "cell_type": "code",
   "execution_count": 22,
   "metadata": {
    "ExecuteTime": {
     "end_time": "2021-02-11T19:51:48.568789Z",
     "start_time": "2021-02-11T19:51:48.558757Z"
    }
   },
   "outputs": [
    {
     "name": "stdout",
     "output_type": "stream",
     "text": [
      "Root is at -3.946503706513463e-10  after  2  iterations, with a precision of  3.946503706513463e-10\n",
      "-3.946503706513463e-10\n"
     ]
    }
   ],
   "source": [
    "# However, if the initial guess is on the other side of the slope, it will get a different result\n",
    "eps = 1.e-8\n",
    "dx=1.e-6\n",
    "a=0.5\n",
    "nmax=100\n",
    "root = newtonraphson(a,dx,nmax,eps,f)\n",
    "print(root)"
   ]
  },
  {
   "cell_type": "code",
   "execution_count": 25,
   "metadata": {
    "ExecuteTime": {
     "end_time": "2021-02-11T19:52:38.731281Z",
     "start_time": "2021-02-11T19:52:38.629282Z"
    }
   },
   "outputs": [
    {
     "data": {
      "image/png": "[encoded data removed]",
      "text/plain": [
       "<Figure size 432x288 with 1 Axes>"
      ]
     },
     "metadata": {
      "needs_background": "dark"
     },
     "output_type": "display_data"
    }
   ],
   "source": [
    "# it can even fail, entering infinity loop\n",
    "import matplotlib.pyplot as plt\n",
    "import numpy as np\n",
    "\n",
    "def f(x):\n",
    "    return x*x*x-2*x+2\n",
    "\n",
    "t = np.arange(-2., 2.0, 0.1)\n",
    "s = f(t)\n",
    "plt.plot(t, s)\n",
    "s2 = np.zeros(len(t))\n",
    "plt.plot(t,s2)\n",
    "plt.show()"
   ]
  },
  {
   "cell_type": "code",
   "execution_count": 29,
   "metadata": {
    "ExecuteTime": {
     "end_time": "2021-02-11T19:55:57.884345Z",
     "start_time": "2021-02-11T19:55:57.864118Z"
    }
   },
   "outputs": [
    {
     "name": "stdout",
     "output_type": "stream",
     "text": [
      "0.0 -0.9999999999712443\n",
      "0.9999999999712443 0.9999999998314664\n",
      "1.397779669787269e-10 -0.9999999998314664\n",
      "0.9999999999712443 0.9999999998314664\n",
      "1.397779669787269e-10 -0.9999999998314664\n",
      "0.9999999999712443 0.9999999998314664\n",
      "1.397779669787269e-10 -0.9999999998314664\n",
      "0.9999999999712443 0.9999999998314664\n",
      "1.397779669787269e-10 -0.9999999998314664\n",
      "0.9999999999712443 0.9999999998314664\n",
      "1.397779669787269e-10 -0.9999999998314664\n",
      "0.9999999999712443 0.9999999998314664\n",
      "1.397779669787269e-10 -0.9999999998314664\n",
      "0.9999999999712443 0.9999999998314664\n",
      "1.397779669787269e-10 -0.9999999998314664\n",
      "0.9999999999712443 0.9999999998314664\n",
      "1.397779669787269e-10 -0.9999999998314664\n",
      "0.9999999999712443 0.9999999998314664\n",
      "1.397779669787269e-10 -0.9999999998314664\n",
      "0.9999999999712443 0.9999999998314664\n",
      "1.397779669787269e-10 -0.9999999998314664\n",
      "0.9999999999712443 0.9999999998314664\n",
      "1.397779669787269e-10 -0.9999999998314664\n",
      "0.9999999999712443 0.9999999998314664\n",
      "1.397779669787269e-10 -0.9999999998314664\n",
      "0.9999999999712443 0.9999999998314664\n",
      "1.397779669787269e-10 -0.9999999998314664\n",
      "0.9999999999712443 0.9999999998314664\n",
      "1.397779669787269e-10 -0.9999999998314664\n",
      "0.9999999999712443 0.9999999998314664\n",
      "1.397779669787269e-10 -0.9999999998314664\n",
      "0.9999999999712443 0.9999999998314664\n",
      "1.397779669787269e-10 -0.9999999998314664\n",
      "0.9999999999712443 0.9999999998314664\n",
      "1.397779669787269e-10 -0.9999999998314664\n",
      "0.9999999999712443 0.9999999998314664\n",
      "1.397779669787269e-10 -0.9999999998314664\n",
      "0.9999999999712443 0.9999999998314664\n",
      "1.397779669787269e-10 -0.9999999998314664\n",
      "0.9999999999712443 0.9999999998314664\n",
      "1.397779669787269e-10 -0.9999999998314664\n",
      "0.9999999999712443 0.9999999998314664\n",
      "1.397779669787269e-10 -0.9999999998314664\n",
      "0.9999999999712443 0.9999999998314664\n",
      "1.397779669787269e-10 -0.9999999998314664\n",
      "0.9999999999712443 0.9999999998314664\n",
      "1.397779669787269e-10 -0.9999999998314664\n",
      "0.9999999999712443 0.9999999998314664\n",
      "1.397779669787269e-10 -0.9999999998314664\n",
      "0.9999999999712443 0.9999999998314664\n",
      "1.397779669787269e-10 -0.9999999998314664\n",
      "0.9999999999712443 0.9999999998314664\n",
      "1.397779669787269e-10 -0.9999999998314664\n",
      "0.9999999999712443 0.9999999998314664\n",
      "1.397779669787269e-10 -0.9999999998314664\n",
      "0.9999999999712443 0.9999999998314664\n",
      "1.397779669787269e-10 -0.9999999998314664\n",
      "0.9999999999712443 0.9999999998314664\n",
      "1.397779669787269e-10 -0.9999999998314664\n",
      "0.9999999999712443 0.9999999998314664\n",
      "1.397779669787269e-10 -0.9999999998314664\n",
      "0.9999999999712443 0.9999999998314664\n",
      "1.397779669787269e-10 -0.9999999998314664\n",
      "0.9999999999712443 0.9999999998314664\n",
      "1.397779669787269e-10 -0.9999999998314664\n",
      "0.9999999999712443 0.9999999998314664\n",
      "1.397779669787269e-10 -0.9999999998314664\n",
      "0.9999999999712443 0.9999999998314664\n",
      "1.397779669787269e-10 -0.9999999998314664\n",
      "0.9999999999712443 0.9999999998314664\n",
      "1.397779669787269e-10 -0.9999999998314664\n",
      "0.9999999999712443 0.9999999998314664\n",
      "1.397779669787269e-10 -0.9999999998314664\n",
      "0.9999999999712443 0.9999999998314664\n",
      "1.397779669787269e-10 -0.9999999998314664\n",
      "0.9999999999712443 0.9999999998314664\n",
      "1.397779669787269e-10 -0.9999999998314664\n",
      "0.9999999999712443 0.9999999998314664\n",
      "1.397779669787269e-10 -0.9999999998314664\n",
      "0.9999999999712443 0.9999999998314664\n",
      "1.397779669787269e-10 -0.9999999998314664\n",
      "0.9999999999712443 0.9999999998314664\n",
      "1.397779669787269e-10 -0.9999999998314664\n",
      "0.9999999999712443 0.9999999998314664\n",
      "1.397779669787269e-10 -0.9999999998314664\n",
      "0.9999999999712443 0.9999999998314664\n",
      "1.397779669787269e-10 -0.9999999998314664\n",
      "0.9999999999712443 0.9999999998314664\n",
      "1.397779669787269e-10 -0.9999999998314664\n",
      "0.9999999999712443 0.9999999998314664\n",
      "1.397779669787269e-10 -0.9999999998314664\n",
      "0.9999999999712443 0.9999999998314664\n",
      "1.397779669787269e-10 -0.9999999998314664\n",
      "0.9999999999712443 0.9999999998314664\n",
      "1.397779669787269e-10 -0.9999999998314664\n",
      "0.9999999999712443 0.9999999998314664\n",
      "1.397779669787269e-10 -0.9999999998314664\n",
      "0.9999999999712443 0.9999999998314664\n",
      "1.397779669787269e-10 -0.9999999998314664\n",
      "0.9999999999712443 0.9999999998314664\n"
     ]
    }
   ],
   "source": [
    "def newtonraphson2(x0,dx, Nmax, eps,f):\n",
    "    for i in range(0,Nmax):\n",
    "        df = (f(x0+dx/2)-f(x0-dx/2))/dx\n",
    "        print(x0,f(x0)/df)\n",
    "        x0 = x0-f(x0)/df\n",
    "    return x0\n",
    "\n",
    "eps = 1.e-8\n",
    "dx=1.e-6\n",
    "a=0.\n",
    "nmax=100\n",
    "root = newtonraphson2(a, dx, nmax, eps, f) # please call newtonraphson2 and try it out"
   ]
  },
  {
   "cell_type": "markdown",
   "metadata": {},
   "source": [
    "## 3. Newton-Raphson with Backtracking\n",
    "\n",
    "If the code enters such an infinite loop, we need to restart the search with a different guess. \n",
    "\n",
    "If the new guess $x_{0}+\\Delta x$ leads to an increase in the magnitude of the function, $|f(x_{0}+\\Delta x)|>|f(x_{0})|$, we can backtrack somewhat and try a smaller guess, say $x_{0}+1/2 \\Delta x$. If the magnitude still increases, we try $x_{0}+1/4 \\Delta x$."
   ]
  },
  {
   "cell_type": "code",
   "execution_count": 30,
   "metadata": {
    "ExecuteTime": {
     "end_time": "2021-02-11T19:56:54.463021Z",
     "start_time": "2021-02-11T19:56:54.457023Z"
    }
   },
   "outputs": [],
   "source": [
    "def newtonraphsonbacktracking(x0,dx,Nmax, eps,f):\n",
    "    for i in range(0,Nmax):\n",
    "        df = (f(x0+dx/2)-f(x0-dx/2))/dx\n",
    "        dxt = -f(x0)/df\n",
    "        while (abs(f(x0+dxt))>abs(f(x0))):\n",
    "            dxt=dxt/2.\n",
    "        print(x0,dxt)\n",
    "        x0 = x0+dxt\n",
    "        if(abs(f(x0))<eps):\n",
    "            print(\"Root is at\",x0,\" after \",i,\" iterations, with a precision of \",abs(f(x0)))\n",
    "            break\n",
    "    return x0"
   ]
  },
  {
   "cell_type": "code",
   "execution_count": 37,
   "metadata": {
    "ExecuteTime": {
     "end_time": "2021-02-11T20:02:39.412563Z",
     "start_time": "2021-02-11T20:02:39.401591Z"
    }
   },
   "outputs": [
    {
     "name": "stdout",
     "output_type": "stream",
     "text": [
      "0.0 0.9999999999712443\n",
      "0.9999999999712443 -0.2499999999578666\n",
      "0.7500000000133777 0.09218750003582352\n",
      "0.8421875000492013 -0.027896692456292796\n",
      "0.8142908075929085 0.002577244894015586\n",
      "0.8168680524869241 -0.000477474035762443\n",
      "0.8163905784511616 0.0002092166074981222\n",
      "0.8165997950586598 -0.00010742056689300943\n",
      "0.8164923744917667 5.148356490287829e-06\n",
      "0.8164975228482569 -1.4369512100993608e-06\n",
      "0.8164960858970468 6.835451393571088e-07\n",
      "0.8164967694421862 -2.2432932728528058e-07\n",
      "0.8164965451128589 3.6914952591245304e-08\n",
      "0.8164965820278114 -2.5482854441142355\n",
      "-1.7317888620864241 -0.038555343193879904\n",
      "-1.770344205280304 0.0010510573869496104\n",
      "-1.7692931478933545 7.936542706142389e-07\n",
      "Root is at -1.769292354239084  after  16  iterations, with a precision of  3.3448799285906716e-12\n"
     ]
    }
   ],
   "source": [
    "# it can even fail, entering infinity loop\n",
    "import matplotlib.pyplot as plt\n",
    "import numpy as np\n",
    "\n",
    "def f(x):\n",
    "    return x*x*x-2*x+2\n",
    "\n",
    "eps = 1.e-8\n",
    "dx=1.e-6\n",
    "a=0.\n",
    "nmax=100\n",
    "root = newtonraphsonbacktracking(a,dx,nmax, eps,f)# please call newtonraphsonbacktracking and study how x0 changes with iteration"
   ]
  },
  {
   "cell_type": "markdown",
   "metadata": {},
   "source": [
    "## Newton-Raphson for equations\n",
    "Find the solution for  \n",
    "\\begin{eqnarray}\n",
    "x_{1}^2+x_{1}x_{2}=10\\\\\n",
    "x_{2}+3x_{1}x_{2}^2=57\n",
    "\\end{eqnarray}\n",
    "\n",
    "\n",
    "\n",
    "### Numerical Solutions\n",
    "\\begin{equation}\n",
    "f_{i}(x_{1},x_{2},...,x_{N})=0, \\qquad i=1,2,....,N\n",
    "\\end{equation}\n",
    "\n",
    "\\begin{equation}\n",
    "{\\bf f(y)}=\\left[ \\begin{array}{c} f_{1}(\\bf{y}) \\\\ f_{2}(\\bf{y})  \\end{array}\\right] = \\left[ \\begin{array}{c} x_{1}^2+x_{1}x_{2}-10 \\\\ x_{2}+3x_{1}x_{2}^2-57 \\end{array}\\right] =0 \n",
    "\\end{equation}\n",
    "\n",
    "Make a guess ($x_{1},x_{2}$), and then correct it ($\\Delta x_{1},\\Delta x_{2}$), we have\n",
    "\\begin{equation}\n",
    "f_{i}(x_{1}+\\Delta x_{1}, x_{2}+\\Delta x_{2})=0 \\qquad, i=1,2\n",
    "\\end{equation}\n",
    "We can expand it using Taylor series\n",
    "\\begin{equation}\n",
    "f_{i}(x_{1}+\\Delta x_{1}, x_{2}+\\Delta x_{2})\\simeq f_{i}(x_{1},x_{2})+\\frac{\\partial f_{i}}{\\partial x_{1}}\\Delta x_{1}+\\frac{\\partial f_{i}}{\\partial x_{2}}\\Delta x_{2}=0 \\qquad i=1,2\n",
    "\\end{equation}\n",
    "\n",
    "\\begin{equation}\n",
    "\\left[ \\begin{array}{c} f_{1}\\\\ f_{2} \\end{array}\\right] + \\begin{bmatrix} \\partial f_{1}/\\partial x_{1} & \\partial f_{1}/\\partial x_{2}  \\\\ \\partial f_{2}/\\partial x_{1} & \\partial f_{2}/\\partial x_{2} \\end{bmatrix}\\left[ \\begin{array}{c} \\Delta x_{1} \\\\ \\Delta x_{2}  \\end{array}\\right] =0 \n",
    "\\end{equation}\n",
    "\n",
    "So we want to solve the matrix equation\n",
    "\\begin{equation}\n",
    "F'\\Delta {\\bf{x}}=-\\bf{f}\n",
    "\\end{equation}\n",
    "Here we use bold font for a vector, the captal letter to represent a matrix\n",
    "\n",
    "For 2x2 array,\n",
    "\\begin{equation}\n",
    " \\begin{bmatrix} a & b \\\\c & d \\end{bmatrix}\\left[ \\begin{array}{c} \\Delta x_{1} \\\\ \\Delta x_{2}  \\end{array}\\right] =-\\left[ \\begin{array}{c} f_{1}\\\\ f_{2} \\end{array}\\right] \n",
    "\\end{equation}\n",
    "The solution is\n",
    "\\begin{eqnarray}\n",
    "\\Delta x_1=\\frac{bf_2-df_1}{ad-bc}\\\\\n",
    "\\Delta x_2=\\frac{cf_1-af_2}{ad-bc}\n",
    "\\end{eqnarray}"
   ]
  },
  {
   "cell_type": "markdown",
   "metadata": {},
   "source": [
    "## Newton-Raphson for equations\n",
    "Find the solution for  \n",
    "\\begin{eqnarray}\n",
    "x_{1}^2+x_{1}x_{2}=10\\\\\n",
    "x_{2}+3x_{1}x_{2}^2=57\n",
    "\\end{eqnarray}"
   ]
  },
  {
   "cell_type": "code",
   "execution_count": 13,
   "metadata": {
    "ExecuteTime": {
     "end_time": "2021-02-15T02:26:36.660043Z",
     "start_time": "2021-02-15T02:26:36.548045Z"
    }
   },
   "outputs": [
    {
     "name": "stderr",
     "output_type": "stream",
     "text": [
      "<ipython-input-13-5ae6ce02448e>:6: RuntimeWarning: divide by zero encountered in true_divide\n",
      "  return (10.-x*x)/x\n",
      "<ipython-input-13-5ae6ce02448e>:9: RuntimeWarning: invalid value encountered in true_divide\n",
      "  return (-1+np.sqrt(1.+4.*3.*x*57))/6./x\n",
      "<ipython-input-13-5ae6ce02448e>:6: RuntimeWarning: divide by zero encountered in true_divide\n",
      "  return (10.-x*x)/x\n",
      "<ipython-input-13-5ae6ce02448e>:9: RuntimeWarning: invalid value encountered in true_divide\n",
      "  return (-1+np.sqrt(1.+4.*3.*x*57))/6./x\n"
     ]
    },
    {
     "data": {
      "image/png": "[encoded data removed]",
      "text/plain": [
       "<Figure size 432x288 with 1 Axes>"
      ]
     },
     "metadata": {
      "needs_background": "light"
     },
     "output_type": "display_data"
    }
   ],
   "source": [
    "## Always a good idea to draw the function first\n",
    "import matplotlib.pyplot as plt\n",
    "import numpy as np\n",
    "\n",
    "def f1(x):\n",
    "    return (10.-x*x)/x\n",
    "\n",
    "def f2(x):\n",
    "    return (-1+np.sqrt(1.+4.*3.*x*57))/6./x\n",
    "\n",
    "x = np.linspace(0, 10)## Draw graphics to roughly determine x1 and x2\n",
    "\n",
    "plt.plot(x, f1(x))\n",
    "plt.plot(x, f2(x))\n",
    "plt.plot(x, abs(f1(x)-f2(x)))\n",
    "plt.show()"
   ]
  },
  {
   "cell_type": "code",
   "execution_count": 196,
   "metadata": {
    "ExecuteTime": {
     "end_time": "2021-02-15T06:53:12.393363Z",
     "start_time": "2021-02-15T06:53:12.380363Z"
    }
   },
   "outputs": [
    {
     "name": "stdout",
     "output_type": "stream",
     "text": [
      "[1.3002932064409833e-12, 3.4297897855140036e-11] 3.432253719794526e-11\n"
     ]
    }
   ],
   "source": [
    "# return several values using array\n",
    "import matplotlib.pyplot as plt\n",
    "import numpy as np\n",
    "\n",
    "\n",
    "def F(x,f):\n",
    "    f[0]=x[0]*x[0]+x[0]*x[1]-10.\n",
    "    f[1]=x[1]+3.*x[0]*x[1]*x[1]-57.\n",
    "\n",
    "x=[1.9999999999999,3.000000000001]\n",
    "f=[0.,0.]\n",
    "F(x,f)\n",
    "print(f, np.sqrt(f[0]*f[0]+f[1]*f[1]))\n"
   ]
  },
  {
   "cell_type": "code",
   "execution_count": 1,
   "metadata": {
    "ExecuteTime": {
     "end_time": "2021-02-15T02:03:32.201436Z",
     "start_time": "2021-02-15T02:03:32.173427Z"
    }
   },
   "outputs": [
    {
     "name": "stdout",
     "output_type": "stream",
     "text": [
      "[-6.0]\n",
      "0.0\n"
     ]
    }
   ],
   "source": [
    "\n",
    "f=[0.]       #If f is an array or np.array, the main program can notice that it has been changed within a function (it is similar to pass by pointer (C) or reference (C++))\n",
    "def F2(x,f):\n",
    "    f[0]=x-10.\n",
    "\n",
    "F2(4.,f)\n",
    "print(f)\n",
    "\n",
    "f=0.             #If f is a variable, the main program won't notice that it is changed within the program\n",
    "def F3(x,f):\n",
    "    f=x-10.\n",
    "\n",
    "F3(4.,f)\n",
    "print(f)"
   ]
  },
  {
   "cell_type": "code",
   "execution_count": null,
   "metadata": {
    "ExecuteTime": {
     "end_time": "2021-02-11T19:40:20.170249Z",
     "start_time": "2021-02-11T19:40:19.608Z"
    }
   },
   "outputs": [],
   "source": [
    "# Homework: using Newton-Raphson method to solve above equation arrays\n",
    "# Hint: first you need to derive the partial derivative of the equation arrays. You can do it either \n",
    "# analytically by hand or numerically using method we learned in the last lecture."
   ]
  }
 ],
 "metadata": {
  "kernelspec": {
   "display_name": "Python 3",
   "language": "python",
   "name": "python3"
  },
  "language_info": {
   "codemirror_mode": {
    "name": "ipython",
    "version": 3
   },
   "file_extension": ".py",
   "mimetype": "text/x-python",
   "name": "python",
   "nbconvert_exporter": "python",
   "pygments_lexer": "ipython3",
   "version": "3.8.5"
  },
  "latex_envs": {
   "LaTeX_envs_menu_present": true,
   "autoclose": false,
   "autocomplete": true,
   "bibliofile": "biblio.bib",
   "cite_by": "apalike",
   "current_citInitial": 1,
   "eqLabelWithNumbers": true,
   "eqNumInitial": 1,
   "hotkeys": {
    "equation": "Ctrl-E",
    "itemize": "Ctrl-I"
   },
   "labels_anchors": false,
   "latex_user_defs": false,
   "report_style_numbering": false,
   "user_envs_cfg": false
  }
 },
 "nbformat": 4,
 "nbformat_minor": 2
}
