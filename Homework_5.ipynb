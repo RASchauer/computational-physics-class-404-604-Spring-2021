{
 "cells": [
  {
   "cell_type": "markdown",
   "metadata": {
    "deletable": false,
    "editable": false
   },
   "source": [
    "# PHYS 404-Spring 2021: Homework #5"
   ]
  },
  {
   "cell_type": "markdown",
   "metadata": {
    "deletable": false,
    "editable": false,
    "run_control": {
     "frozen": true
    }
   },
   "source": [
    "## Homework:\n",
    "Undergraduate student:\n",
    "A person throws a ball upwards at a speed of 10 m/s, please calculate the trajectory using Runge-Kutta method and plot height (z) vs time (t)."
   ]
  },
  {
   "cell_type": "code",
   "execution_count": 1,
   "metadata": {
    "ExecuteTime": {
     "end_time": "2021-02-22T06:07:48.154459Z",
     "start_time": "2021-02-22T06:07:47.399156Z"
    },
    "deletable": false,
    "editable": false,
    "run_control": {
     "frozen": true
    }
   },
   "outputs": [],
   "source": [
    "import numpy as np\n",
    "import matplotlib.pyplot as plt"
   ]
  },
  {
   "cell_type": "code",
   "execution_count": 2,
   "metadata": {
    "ExecuteTime": {
     "end_time": "2021-02-22T06:07:48.202459Z",
     "start_time": "2021-02-22T06:07:48.154459Z"
    },
    "deletable": false,
    "editable": false,
    "run_control": {
     "frozen": true
    }
   },
   "outputs": [],
   "source": [
    "# So we have y[0]=x, y[1]=v_{x}, y[2]=y, y[3]=v_{y}, y[4]=z, y[5]=v_{z}\n",
    "\n",
    "def f(t, y):\n",
    "    f=np.zeros(6)\n",
    "    r=np.sqrt(y[0]*y[0]+y[2]*y[2]+(y[4]+R)*(y[4]+R))\n",
    "    f[0]=y[1] # x\n",
    "    f[1]=0    # vx\n",
    "    f[2]=y[3] # y\n",
    "    f[3]=0    # vy\n",
    "    f[4]=y[5] # z\n",
    "    f[5]=-G*M/r/r/r*(y[4]+R) # vz\n",
    "    return f\n",
    "\n",
    "def rk4(t, h, y, n):\n",
    "    k1 = np.zeros(n)\n",
    "    k2 = np.zeros(n)\n",
    "    k3 = np.zeros(n)\n",
    "    k4 = np.zeros(n)\n",
    "    k1=h*f(t,y)\n",
    "    k2=h*f(t+0.5*h,y+0.5*k1)\n",
    "    k3=h*f(t+0.5*h,y+0.5*k2)\n",
    "    k4=h*f(t+h,y+k3)\n",
    "    y+=(k1+2*(k2+k3)+k4)/6.\n",
    "    return y"
   ]
  },
  {
   "cell_type": "code",
   "execution_count": 3,
   "metadata": {
    "ExecuteTime": {
     "end_time": "2021-02-22T06:07:49.188430Z",
     "start_time": "2021-02-22T06:07:48.202459Z"
    },
    "deletable": false,
    "editable": false,
    "run_control": {
     "frozen": true
    }
   },
   "outputs": [
    {
     "data": {
      "image/png": "[encoded data removed]",
      "text/plain": [
       "<Figure size 432x288 with 1 Axes>"
      ]
     },
     "metadata": {
      "needs_background": "light"
     },
     "output_type": "display_data"
    }
   ],
   "source": [
    "G = 6.6743015e-11\n",
    "R = 6.3781e6\n",
    "M = 5.972e24\n",
    "\n",
    "# print(-G*M/R/R/R*R, 'm/s^2')\n",
    "\n",
    "tend=2.04\n",
    "t=0\n",
    "h=0.001\n",
    "\n",
    "x0=0.\n",
    "vx0=0.\n",
    "y0=0.\n",
    "vy0=0.\n",
    "z0=0.\n",
    "vz0=10.\n",
    "\n",
    "#  x   vx  y   vy  z  vz\n",
    "y=[x0, vx0, y0, vy0, z0, vz0]\n",
    "t_tot=[]\n",
    "\n",
    "xp=[]\n",
    "yp=[]\n",
    "zp=[]\n",
    "\n",
    "while(t<tend):\n",
    "    if((t+h)>tend):\n",
    "        h=tend-t\n",
    "    t_tot=np.append(t_tot,t)\n",
    "    y = rk4(t,h,y,6)\n",
    "    xp=np.append(xp,y[0])\n",
    "    yp=np.append(yp,y[2])\n",
    "    zp=np.append(zp,y[4])\n",
    "    t = t+h\n",
    "\n",
    "plt.plot(t_tot,zp)\n",
    "plt.grid()\n",
    "plt.show()"
   ]
  }
 ],
 "metadata": {
  "kernelspec": {
   "display_name": "Python 3",
   "language": "python",
   "name": "python3"
  },
  "language_info": {
   "codemirror_mode": {
    "name": "ipython",
    "version": 3
   },
   "file_extension": ".py",
   "mimetype": "text/x-python",
   "name": "python",
   "nbconvert_exporter": "python",
   "pygments_lexer": "ipython3",
   "version": "3.8.3"
  },
  "latex_envs": {
   "LaTeX_envs_menu_present": true,
   "autoclose": false,
   "autocomplete": true,
   "bibliofile": "biblio.bib",
   "cite_by": "apalike",
   "current_citInitial": 1,
   "eqLabelWithNumbers": true,
   "eqNumInitial": 1,
   "hotkeys": {
    "equation": "Ctrl-E",
    "itemize": "Ctrl-I"
   },
   "labels_anchors": false,
   "latex_user_defs": false,
   "report_style_numbering": false,
   "user_envs_cfg": false
  },
  "varInspector": {
   "cols": {
    "lenName": 16,
    "lenType": 16,
    "lenVar": 40
   },
   "kernels_config": {
    "python": {
     "delete_cmd_postfix": "",
     "delete_cmd_prefix": "del ",
     "library": "var_list.py",
     "varRefreshCmd": "print(var_dic_list())"
    },
    "r": {
     "delete_cmd_postfix": ") ",
     "delete_cmd_prefix": "rm(",
     "library": "var_list.r",
     "varRefreshCmd": "cat(var_dic_list()) "
    }
   },
   "types_to_exclude": [
    "module",
    "function",
    "builtin_function_or_method",
    "instance",
    "_Feature"
   ],
   "window_display": false
  }
 },
 "nbformat": 4,
 "nbformat_minor": 4
}
