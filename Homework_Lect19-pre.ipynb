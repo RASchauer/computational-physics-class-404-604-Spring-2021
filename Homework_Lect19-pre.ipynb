{
 "cells": [
  {
   "cell_type": "markdown",
   "metadata": {},
   "source": [
    "## Homework:\n",
    "\n",
    "Highly nonlinear oscillator: \n",
    "\n",
    "Recall the numerical solution for oscillations of a spring with power p = 12 (use F=-0.01\\*y[0]\\**11). Decompose the solution into a Fourier series and determine the number of higher harmonics that contribute at least 10%; for example, determine the n for which |bn /b1 | < 0.1. Check that resuming the components reproduces the signal.\n",
    "(Landau 289)\n",
    "\n",
    "Warning: please only sample the data within one period\n",
    "\n",
    "Landau, Rubin H., Manuel Páez, Cristian Bordeianu. Computational Physics: Problem Solving with Python, 3rd Edition. Wiley-Blackwell, 2015-07-15. VitalBook file."
   ]
  },
  {
   "cell_type": "code",
   "execution_count": 9,
   "metadata": {
    "ExecuteTime": {
     "end_time": "2021-04-18T08:42:34.342241Z",
     "start_time": "2021-04-18T08:42:34.054196Z"
    }
   },
   "outputs": [
    {
     "data": {
      "image/png": "[encoded data removed]",
      "text/plain": [
       "<Figure size 432x288 with 1 Axes>"
      ]
     },
     "metadata": {
      "needs_background": "light"
     },
     "output_type": "display_data"
    }
   ],
   "source": [
    "# Let's first try linear force  Fx=-x, then try Fx=, -x**3, -x**5, ..., -x**11\n",
    "\n",
    "\"\"\" From \"COMPUTATIONAL PHYSICS\", 3rd Ed, Enlarged Python eTextBook  \n",
    "    by RH Landau, MJ Paez, and CC Bordeianu\n",
    "    Copyright Wiley-VCH Verlag GmbH & Co. KGaA, Berlin;  Copyright R Landau,\n",
    "    Oregon State Unv, MJ Paez, Univ Antioquia, C Bordeianu, Univ Bucharest, 2015.\n",
    "    Support by National Science Foundation\"\"\"\n",
    "\n",
    "# rk4.py 4th order Runge Kutta\n",
    "\t\t \n",
    "import matplotlib.pylab as p\n",
    "import numpy as np\n",
    "\n",
    "#   Initialization\n",
    "a = 0.\n",
    "b = 2*np.pi#6.2832\n",
    "n = 500                                        \n",
    "ydumb = np.zeros((2), float);    y = np.zeros((2), float)\n",
    "fReturn = np.zeros((2), float);  k1 = np.zeros((2), float)\n",
    "k2 = np.zeros((2), float);       k3 = np.zeros((2), float) \n",
    "k4 = np.zeros((2), float)\n",
    "y[0] = 0.;   y[1] = -1.\n",
    "t = a;       h = (b-a)/n;\n",
    "xp=np.array([0.0])\n",
    "yp=np.array([y[0]])\n",
    "\n",
    "def f( t, y):                                           # Force function \n",
    "    fReturn[0] = y[1]# finish this line                                            \n",
    "    fReturn[1] = -0.01*y[0]**11# finish this line  assume F=-x, -x^3, -x^5, -x^11    \n",
    "    return fReturn\n",
    "\n",
    "def rk4(t,h,n):                 \n",
    "    k1 = [0]*(n)\n",
    "    k2 = [0]*(n)\n",
    "    k3 = [0]*(n)\n",
    "    k4 = [0]*(n)\n",
    "    fR = [0]*(n)\n",
    "    ydumb = [0]*(n)\n",
    "    fR = f(t, y)                                            # Returns RHS's  \n",
    "    for i in range(0, n):\n",
    "        k1[i] = h*fR[i]                             \n",
    "    for i in range(0, n):\n",
    "        ydumb[i] = y[i] + k1[i]/2. \n",
    "    k2 = h*f(t+h/2., ydumb) \n",
    "    for i in range(0, n):\n",
    "        ydumb[i] = y[i] + k2[i]/2. \n",
    "    k3 = h*f(t+h/2., ydumb)\n",
    "    for i in range(0, n):\n",
    "        ydumb[i] = y[i] + k3[i] \n",
    "    k4 = h*f(t+h, ydumb) \n",
    "    for i in range(0, 2):\n",
    "        y[i] = y[i] + (k1[i] + 2.*(k2[i] + k3[i]) + k4[i])/6.\n",
    "    return y    \n",
    "\n",
    "while (t < b):                                              # Time loop\n",
    "    if ((t + h) > b):\n",
    "        h = b - t                                           # Last step\n",
    "    y = rk4(t,h,2)\n",
    "    t = t + h\n",
    "    xp=np.append(xp, t)\n",
    "    yp=np.append(yp,y[0])\n",
    "    \n",
    "p.plot(xp,yp)\n",
    "p.show()"
   ]
  },
  {
   "cell_type": "code",
   "execution_count": 14,
   "metadata": {
    "ExecuteTime": {
     "end_time": "2021-04-18T09:29:40.533318Z",
     "start_time": "2021-04-18T09:29:39.093321Z"
    }
   },
   "outputs": [
    {
     "data": {
      "image/png": "[encoded data removed]",
      "text/plain": [
       "<Figure size 432x288 with 1 Axes>"
      ]
     },
     "metadata": {
      "needs_background": "light"
     },
     "output_type": "display_data"
    },
    {
     "data": {
      "image/png": "[encoded data removed]",
      "text/plain": [
       "<Figure size 432x288 with 1 Axes>"
      ]
     },
     "metadata": {
      "needs_background": "light"
     },
     "output_type": "display_data"
    }
   ],
   "source": [
    "\"\"\" From \"COMPUTATIONAL PHYSICS\", 3rd Ed, Enlarged Python eTextBook  \n",
    "    by RH Landau, MJ Paez, and CC Bordeianu\n",
    "    Copyright Wiley-VCH Verlag GmbH & Co. KGaA, Berlin;  Copyright R Landau,\n",
    "    Oregon State Unv, MJ Paez, Univ Antioquia, C Bordeianu, Univ Bucharest, 2015.\n",
    "    Support by National Science Foundation\"\"\"\n",
    "\n",
    "# DFTcomplex.py:  Discrete Fourier Transform with built in complex\n",
    "from numpy import *\n",
    "import matplotlib.pyplot as plt\n",
    "import cmath                                            # complex math\n",
    "    \n",
    "    \n",
    "N = 500;                  Np = N                           \n",
    "signal = zeros( (N+1), float )     \n",
    "twopi  = 2.*pi;       sq2pi = 1./sqrt(twopi);         h = twopi/N\n",
    "dftz   = zeros( (Np), complex )                  # Complex elements\n",
    "xa = zeros( (N+1), float )   \n",
    "nplot = zeros( N, float )   \n",
    "fplot = zeros( N, float ) \n",
    "\n",
    "# def f(signal):                                                  # Signal\n",
    "#     step = twopi/N;        \n",
    "#     x = 0. \n",
    "#     for i in range(0, N+1):\n",
    "#         signal[i] = 30*cos(x*x*x)\n",
    "#         xa[i] = x                      # Plot\n",
    "#         x += step\n",
    "        \n",
    "\n",
    "def fourier(dftz):                                              # DFT\n",
    "    for n in range(0, Np):              # the n frequency\n",
    "        zsum = complex(0.0, 0.0)\n",
    "        for  k in range(0, N):\n",
    "            zexpo = complex(0, twopi*k*n/N)           # Complex exponent\n",
    "#             zsum += signal[k]*cmath.exp(-1*zexpo)#/sq2pi     # finish this line, signal[k] is y[k]\n",
    "            zsum += -0.01*n**11*cmath.exp(-1*zexpo)\n",
    "        dftz[n] = zsum * sq2pi      \n",
    "        nplot[n] = n\n",
    "        fplot[n] = sqrt(dftz[n].imag*dftz[n].imag+dftz[n].real*dftz[n].real)\n",
    "\n",
    "f(signal,y);       \n",
    "fourier(dftz)              # Call signal, transform\n",
    "plt.plot(xa,signal)\n",
    "plt.show()\n",
    "plt.plot(nplot,fplot)\n",
    "plt.show()\n"
   ]
  }
 ],
 "metadata": {
  "kernelspec": {
   "display_name": "Python 3",
   "language": "python",
   "name": "python3"
  },
  "language_info": {
   "codemirror_mode": {
    "name": "ipython",
    "version": 3
   },
   "file_extension": ".py",
   "mimetype": "text/x-python",
   "name": "python",
   "nbconvert_exporter": "python",
   "pygments_lexer": "ipython3",
   "version": "3.8.3"
  },
  "latex_envs": {
   "LaTeX_envs_menu_present": true,
   "autoclose": false,
   "autocomplete": true,
   "bibliofile": "biblio.bib",
   "cite_by": "apalike",
   "current_citInitial": 1,
   "eqLabelWithNumbers": true,
   "eqNumInitial": 1,
   "hotkeys": {
    "equation": "Ctrl-E",
    "itemize": "Ctrl-I"
   },
   "labels_anchors": false,
   "latex_user_defs": false,
   "report_style_numbering": false,
   "user_envs_cfg": false
  },
  "varInspector": {
   "cols": {
    "lenName": 16,
    "lenType": 16,
    "lenVar": 40
   },
   "kernels_config": {
    "python": {
     "delete_cmd_postfix": "",
     "delete_cmd_prefix": "del ",
     "library": "var_list.py",
     "varRefreshCmd": "print(var_dic_list())"
    },
    "r": {
     "delete_cmd_postfix": ") ",
     "delete_cmd_prefix": "rm(",
     "library": "var_list.r",
     "varRefreshCmd": "cat(var_dic_list()) "
    }
   },
   "types_to_exclude": [
    "module",
    "function",
    "builtin_function_or_method",
    "instance",
    "_Feature"
   ],
   "window_display": false
  }
 },
 "nbformat": 4,
 "nbformat_minor": 4
}
