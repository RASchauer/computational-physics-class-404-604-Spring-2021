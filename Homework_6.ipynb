{
 "cells": [
  {
   "cell_type": "code",
   "execution_count": 1,
   "metadata": {
    "ExecuteTime": {
     "end_time": "2021-03-01T10:15:19.557354Z",
     "start_time": "2021-03-01T10:15:19.003278Z"
    }
   },
   "outputs": [],
   "source": [
    "import numpy as np\n",
    "import matplotlib.pyplot as plt\n"
   ]
  },
  {
   "cell_type": "code",
   "execution_count": 21,
   "metadata": {
    "ExecuteTime": {
     "end_time": "2021-03-01T10:27:42.271163Z",
     "start_time": "2021-03-01T10:27:42.261139Z"
    }
   },
   "outputs": [],
   "source": [
    "y=[0, 0.,0.,1.875] # we have y[0]=x(t), y[1]=dx(t)/dt, y[2]=y(t), y[3]=dy(t)/dt\n",
    "t=0\n",
    "\n",
    "vy=1.5 # try different vy and provide a vymin and vymax\n",
    "\n",
    "# def f(t, y, n=5):\n",
    "#     f=np.zeros(4)\n",
    "# #     r=np.sqrt(y[0]*y[0]+y[2]*y[2])\n",
    "#     f[0]=y[1] #x\n",
    "#     f[1]=1    #dx/dt\n",
    "#     f[2]=y[3] #y\n",
    "#     f[3]=(2*y[0]*y[3]-n*(n+1)*y[2])/(1-y[0]*y[0]) #dy/dt\n",
    "# #     f[2]=y[3]\n",
    "# #     f[3]=-G*M/r/r/r*y[2]\n",
    "#     return f\n",
    "\n",
    "def f(t, y, n=5):\n",
    "\n",
    "    f=np.zeros(4)\n",
    "    f[0]=t\n",
    "    f[1]=y[1]+f[2]*f[0]\n",
    "    f[2]=y[2]+f[3]*f[0] # z=dy/dx=y[3]\n",
    "    f[3]=(2*y[0]*y[2]-n*(n+1)*y[1])/(1-y[0]*y[0])+y[3] #d^2y/dx^2=dz/dx\n",
    "#     f[3]=(2*t*y[3]-n*(n+1)*y[2])/(1-t*t)\n",
    "    return f\n",
    "\n",
    "def rk4(t, h, y, n):\n",
    "    k1 = np.zeros(n)\n",
    "    k2 = np.zeros(n)\n",
    "    k3 = np.zeros(n)\n",
    "    k4 = np.zeros(n)\n",
    "    k1=h*f(t,y)\n",
    "    k2=h*f(t+0.5*h,y+0.5*k1)\n",
    "    k3=h*f(t+0.5*h,y+0.5*k2)\n",
    "    k4=h*f(t+h,y+k3)\n",
    "    y+=(k1+2.*(k2+k3)+k4)/6.\n",
    "    return y\n",
    "\n",
    "def cd(t, h, y):\n",
    "    y+=(f(t+h/2., y)-f(t-h/2.,y))/h/h\n",
    "    return y"
   ]
  },
  {
   "cell_type": "code",
   "execution_count": 23,
   "metadata": {
    "ExecuteTime": {
     "end_time": "2021-03-01T10:28:39.104860Z",
     "start_time": "2021-03-01T10:28:38.972887Z"
    }
   },
   "outputs": [
    {
     "name": "stdout",
     "output_type": "stream",
     "text": [
      "iter 0, shoot point: 2.0002000100003334, vy:6.667333366667918e-13 target: 1.0\n",
      "iter 10, shoot point: 1.5006383375808166, vy:5.002127791936159e-13 target: 1.0\n",
      "iter 20, shoot point: 1.5001504843850944, vy:5.000501614617086e-13 target: 1.0\n",
      "iter 30, shoot point: 1.5001500079659578, vy:5.000500026553297e-13 target: 1.0\n",
      "iter 40, shoot point: 1.5001500075007048, vy:5.000500025002454e-13 target: 1.0\n",
      "iter 50, shoot point: 1.5001500075002505, vy:5.00050002500094e-13 target: 1.0\n",
      "iter 60, shoot point: 1.50015000750025, vy:5.000500025000938e-13 target: 1.0\n",
      "iter 70, shoot point: 1.50015000750025, vy:5.000500025000938e-13 target: 1.0\n",
      "iter 80, shoot point: 1.50015000750025, vy:5.000500025000938e-13 target: 1.0\n",
      "iter 90, shoot point: 1.50015000750025, vy:5.000500025000938e-13 target: 1.0\n",
      "vy 1.5 time 0\n"
     ]
    },
    {
     "data": {
      "image/png": "[encoded data removed]",
      "text/plain": [
       "<Figure size 432x288 with 1 Axes>"
      ]
     },
     "metadata": {
      "needs_background": "light"
     },
     "output_type": "display_data"
    }
   ],
   "source": [
    "## Using Bisection method to get the correct launch speed\n",
    "\n",
    "\n",
    "# G=6.67428e-8\n",
    "# M=5.974e27\n",
    "# day=24.*3600.\n",
    "\n",
    "h=1.e-4\n",
    "y=[0., 0.,0.,1.875]\n",
    "target_x=1.\n",
    "target_y=1.\n",
    "t=0.\n",
    "tend=30\n",
    "eps=1.e-8\n",
    "vy=[]\n",
    "xp=[]\n",
    "yp=[]\n",
    "ta=[]\n",
    "vymin=1.5\n",
    "vymax=2.5\n",
    "maxiter=100\n",
    "for iter in range(maxiter):\n",
    "    xp=[]\n",
    "    yp=[]\n",
    "    ta=[]\n",
    "    vy=(vymin+vymax)/2. # Finds the midpoint between the vmin and vmax\n",
    "    y=[0.,0.,vy,0.]\n",
    "    t=0\n",
    "    while(t<tend):\n",
    "        y = rk4(t,h,y,2)\n",
    "#         y = cd(t, h, y)\n",
    "        xp=np.append(xp,y[0])\n",
    "        yp=np.append(yp,y[2])\n",
    "        ta=np.append(ta,t)\n",
    "        if((y[0])<target_x):\n",
    "            y[0]=y[0]-y[1]*y[2]/y[3]\n",
    "#             print(\"While loop breaking\")\n",
    "            break\n",
    "        t = t+h\n",
    "    if(np.abs(y[2]-target_y)<eps):#Overshot the x-limit\n",
    "        print(\"Iter loop breaking\")\n",
    "        break\n",
    "    if y[2]<target_y:\n",
    "#         vymax=vy\n",
    "        vymin=vy\n",
    "        #please choose vymax=vy or vymin=vy\n",
    "    else:\n",
    "#         vymin=vy#please choose vymax=vy or vymin=vy\n",
    "        vymax=vy\n",
    "    if iter%10==0: print(f\"iter {iter}, shoot point: {y[2]}, vy:{y[3]} target: {target_y}\")\n",
    "\n",
    "print(\"vy\",vy,\"time\",t)\n",
    "plt.show()\n",
    "plt.plot(xp,yp)\n",
    "plt.show()"
   ]
  },
  {
   "cell_type": "code",
   "execution_count": null,
   "metadata": {},
   "outputs": [],
   "source": []
  }
 ],
 "metadata": {
  "kernelspec": {
   "display_name": "Python 3",
   "language": "python",
   "name": "python3"
  },
  "language_info": {
   "codemirror_mode": {
    "name": "ipython",
    "version": 3
   },
   "file_extension": ".py",
   "mimetype": "text/x-python",
   "name": "python",
   "nbconvert_exporter": "python",
   "pygments_lexer": "ipython3",
   "version": "3.8.5"
  },
  "latex_envs": {
   "LaTeX_envs_menu_present": true,
   "autoclose": false,
   "autocomplete": true,
   "bibliofile": "biblio.bib",
   "cite_by": "apalike",
   "current_citInitial": 1,
   "eqLabelWithNumbers": true,
   "eqNumInitial": 1,
   "hotkeys": {
    "equation": "Ctrl-E",
    "itemize": "Ctrl-I"
   },
   "labels_anchors": false,
   "latex_user_defs": false,
   "report_style_numbering": false,
   "user_envs_cfg": false
  }
 },
 "nbformat": 4,
 "nbformat_minor": 4
}
